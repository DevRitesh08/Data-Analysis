{
 "cells": [
  {
   "metadata": {},
   "cell_type": "markdown",
   "source": [
    "# API (application programming interface)\n",
    "In simple words it is a messenger that takes requests and tells a system what you want to do and then returns the response back to you .\n",
    "\n",
    "- It is a way for two or more computer programs to communicate with each other .\n",
    "- here we will see how to use APIs to get data from the web ."
   ],
   "id": "8fbcb9ffdd79211c"
  },
  {
   "cell_type": "code",
   "execution_count": null,
   "id": "initial_id",
   "metadata": {
    "collapsed": true
   },
   "outputs": [],
   "source": [
    ""
   ]
  }
 ],
 "metadata": {
  "kernelspec": {
   "display_name": "Python 3",
   "language": "python",
   "name": "python3"
  },
  "language_info": {
   "codemirror_mode": {
    "name": "ipython",
    "version": 2
   },
   "file_extension": ".py",
   "mimetype": "text/x-python",
   "name": "python",
   "nbconvert_exporter": "python",
   "pygments_lexer": "ipython2",
   "version": "2.7.6"
  }
 },
 "nbformat": 4,
 "nbformat_minor": 5
}
